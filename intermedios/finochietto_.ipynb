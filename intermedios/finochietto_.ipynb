{
  "nbformat": 4,
  "nbformat_minor": 0,
  "metadata": {
    "colab": {
      "provenance": [],
      "toc_visible": true,
      "authorship_tag": "ABX9TyOY5FhcStcFw8BYge5uB3jB",
      "include_colab_link": true
    },
    "kernelspec": {
      "name": "python3",
      "display_name": "Python 3"
    },
    "language_info": {
      "name": "python"
    }
  },
  "cells": [
    {
      "cell_type": "markdown",
      "metadata": {
        "id": "view-in-github",
        "colab_type": "text"
      },
      "source": [
        "<a href=\"https://colab.research.google.com/github/LuisaBeccar/atenciones_md_laboral/blob/main/finochietto_.ipynb\" target=\"_parent\"><img src=\"https://colab.research.google.com/assets/colab-badge.svg\" alt=\"Open In Colab\"/></a>"
      ]
    },
    {
      "cell_type": "markdown",
      "source": [
        "**Problema a resolver:** <br>\n",
        "Contar la cantidad de atenciones realizada por el equipo de medicina ocupacional de Vision Medica en el Sanatorio Finochietto.<br>\n",
        "En la planilla de ausentismo actuales se registr en la columna Observaciones cuando se reciben mails con avisos de ausentismo y certificados. Estos mails son respondidos y se consideran atenciones virtuales. Tambien sería atecnión virtual las llamadas telefonicas. Además se atiende de forma presencial a los colaboradores que concurren al consultorio de medicina ocupacional.<br>\n",
        "<br>\n",
        "Buscar segun indique atencion: **Virtual** o **Presencial**"
      ],
      "metadata": {
        "id": "KcWOqqJmHMcf"
      }
    },
    {
      "cell_type": "code",
      "source": [
        "# librerias\n",
        "%%capture\n",
        "import pandas as pd\n",
        "import numpy as np\n",
        "!pip install catboost\n",
        "!uname\n",
        "from sklearn.feature_extraction.text import CountVectorizer\n",
        "#Spacy\n",
        "!python -m spacy download es_core_news_sm\n",
        "import spacy\n",
        "sp = spacy.load('es_core_news_sm')\n",
        "import es_core_news_md\n",
        "nlp = es_core_news_md.load()"
      ],
      "metadata": {
        "id": "aTCKVqz-MPk_"
      },
      "execution_count": 47,
      "outputs": []
    },
    {
      "cell_type": "code",
      "source": [
        "# librerias\n",
        "%%capture\n",
        "!python -m spacy download es_core_news_sm\n",
        "! pip install -U symspellpy\n",
        "import nltk # importar natural language toolkit\n",
        "nltk.download('punkt')\n",
        "nltk.download('stopwords') # modulo para descargar stopwords en diferentes idiomas\n",
        "nltk.download('wordnet')\n",
        "from nltk.corpus import stopwords\n",
        "import pandas as pd\n",
        "import numpy  as np\n",
        "import re\n",
        "import string\n",
        "import plotly\n",
        "import matplotlib.pyplot as plt\n",
        "from nltk.stem import PorterStemmer\n",
        "import time\n",
        "import spacy\n",
        "import es_core_news_sm\n",
        "from nltk.corpus import stopwords\n",
        "from nltk.tokenize import word_tokenize\n",
        "from nltk.tokenize import sent_tokenize\n",
        "from sklearn.feature_extraction.text import CountVectorizer\n",
        "from sklearn.feature_extraction.text import TfidfTransformer\n",
        "from nltk.probability import FreqDist\n",
        "from wordcloud import WordCloud\n",
        "import pickle\n",
        "from symspellpy import SymSpell\n",
        "import pkg_resources\n",
        "from symspellpy import SymSpell, Verbosity\n",
        "\n",
        "import es_core_news_md\n",
        "nlp = es_core_news_md.load()"
      ],
      "metadata": {
        "id": "l3rBCqJTj4YX"
      },
      "execution_count": 4,
      "outputs": []
    },
    {
      "cell_type": "markdown",
      "source": [
        "# Paso a paso"
      ],
      "metadata": {
        "id": "aMFqF_d6SFAU"
      }
    },
    {
      "cell_type": "code",
      "source": [
        "# para poder usarlo con copy paste de la columna sin necesidad de descargar crear csv etc,\n",
        "# este codigo agarra el string enorme que le pega y lo parte en filas de 100 palabras (p)\n",
        "\n",
        "text = input(\"Seleccione la columna a analizar, copie y pegue aqui:\") # str\n",
        "p = 100  # Number of words per row\n",
        "\n",
        "t = nlp(text) # spacy.tokens.doc.Doc\n",
        "\n",
        "words = text.split()\n",
        "rows = []\n",
        "for i in range(0, len(words), p):\n",
        "    rows.append(' '.join(words[i:i+p]))\n",
        "X = pd.Series(rows) #pandas.core.series.Series\n",
        "# X es la serie que resulta de esta funcion y que luego pasara a la otra funcion para analizar texto\n"
      ],
      "metadata": {
        "colab": {
          "base_uri": "https://localhost:8080/"
        },
        "id": "dLcvmhbKa71u",
        "outputId": "22a98459-ba98-4a27-e116-ea34cfb33ebe"
      },
      "execution_count": 50,
      "outputs": [
        {
          "name": "stdout",
          "output_type": "stream",
          "text": [
            "Seleccione la columna a analizar, copie y pegue aqui:10/6 envian email el 9/06 desde sector, avisando ausencia de la colaboradora, dx laringitis, reposo 72 horas. Se cita a consultorio // 19/06 Acude con certificado original 10/6 envia certi 9/06 certif, dx sindrome gripal, reposo por 72 hs.//13/6 acude a presentar certificado virtual 10/6/2024 envia por email certif. 10/6 dx beg, reposo por 24 horas. 10/6 se presenta a consulta, al examen fisico, se encuentra con decaimiento, palidez, refiere nauseas. Presenta rx de senos paranasales y laboratorio del 7/06 con Pcr levadaJustifica retiro para atención por guardias. //11/6 envia desde sector aviso de ausencia, colaboradora concurrio a guardia, 48hs, gec. pendiente certificado. 11/6 envia cert del 10/6 dx: rinofaringitis viral, reposo 48hs. 12/06 aviso del sector de ausentismo de la colaboradora el 12/0 por cuadro gripal pendiente certificado 12/06 envia certificado con fecha del 10/06 con dx de gea con reposo por 48hs 13/6 se recibe constancia 7/6 reposo 72 hs. Envia mail aclara ausencia del 8 y 9 14/6 recibo mail con certigficado de gastroenteritis reposo 48hs 14/6 sector informa gripe con reposo 48hss 14/6 sector informa ausencia por mareos, mail con certificado de mareos cefalea y desvanecimiento reposo 24hs 14/6 sector informa ausentismo por dolor de halux valgus y dificultad a deambulacion 14/6 envia certificados de reposo por emesis: 10/6 24hs, 11/6 72hs, 14/6 24hs. Concurre a ml (sin certificados en papel) . Refiere turno con Ob 27/6m, y cito ese dia con tratamieton indicado, si le indicara reposo con diagnostco. y futuras certificados a prtir de entonces del obsetra. (HCpapel en folio en carpeta de prolongados) 14/6 sectori informa nuevo reposo de 48hs por gripe 18/6 envia por mail certificado del 14/6, dx: lumbalgia, reposo 24hs y orden para aplicacion im de diclofenac +dexametasona. 18/6 se reciba mail con cert del 15/6 dx: infeccion viral, 48hs. Cito a ml. 19/06 llama por telefono avisando 1que recien a las 7.15 am vio el mensaje que ya estaba en la casa se le pide que lo traiga el dia de hoy o sino el lunes presencial. acude a ml con el certificado original 18/6 se recibe cert del 16/6 dx:cervicalgia, reposo 24hs- 18/6 se recibe cert online del 16/6 dx: cervicalgia, reposo 48hs. Se consulta sobre si fue a medico traumatologo y se realizo EC, envio varias veces teleconsulta.Refiere turno con especialista para el 12/9. Cito a ml//acude a ml con cert del 16/6 dx:cervicalgia, reposo 48hs. Al EF: presenta dolor en region cervical, que irradia a mmss der y contractura muscular en region pectoral. En tto con diclofenac 75mg, se sugiere ir a guardia traumatologica. 18/6 se recibe mail desde sector dando aviso de ausencia del 17/6 por dolor, pendiente envio de certificados./Envia certificado del 17/6 dx:cervicalgia, reposo 24hs + orden de analgesia con diclofenac +calor local. 18/6 se recibe mail con cert del 15/6 dx: sme gripal, reposo 24hs. certificado del 16/6 dx:sme gripal, reposo 48hs. Cito a ml 18/6 se recibe desde cordinacion cert del 18/6 dx:lumbalgia, reposo 3 dias. Se consulta por EC y control. cito a ml. 18/6 se recibe cert del 16/6 dx: vomitos, reposo 24hs 18/6 envia cert del 14/6 atencion en guardia por cuadro de prurito, aporta lab del 14/6: fal 150, resto s/p. AP de vellosidades de ID, refiere medicacion habitual:benadryl endovenoso por prurito, Aspirina prevent 100mg por sten del aneurisma oftalmica cerebral , Minociclina 100mg por rosasea, venlafaxina 150mg por migraña crónica. y control con dermatologia, gastro y hepatologo.Se cita a ml para su justificacion.// 19/06 acude a ml para control medico. // 19/06 acude a ml para control medico y trae certificado del 14/06 con dx de prurito. le solicitaron laboratorio y si sale alterado se le tomara biopsia, laboratorio de glucvemia hb glicosilada, dosaje de tirotrofina ultrasensible, un nuevo hepatograma, le pidieron anticuerpos inmunoglobulinas y serologias y ecodoppler hepatico y ser ealizo una ecografia el 16/06 sp, no se puede ver el pancreas por interposicion gaseosa., certificado del 14/ sin aclaracion de reposo se le justifica por traer estudio complementearios| 18/6 envia por mail certficado del 18/6, dx: faringitis aguda, reposo 48hs. Refiere test influenz y covid negativo. 18/6 se recibe aviso de ausencia desde sector del 18/6 por estado gripal. pendiente certificado. 19/6/2024 CERTIFICADO DEL 18/06 CON DX DE GEA CON REPOSO POR 72HS. SE LO CITA CON EL CERTIFICADO ORIGINAL AL ALTA. 19/06 certificado del 15/0 con dx de hiperemesis reposo por 24hs 10/6 envian email el 9/06 desde sector, avisando ausencia de la colaboradora, dx laringitis, reposo 72 horas. Se cita a consultorio // 19/06 Acude con certificado original 19/06 aviso de ausentismo por enfermedad pendiente certificado 24/06 Presenta certificado del 6/06/204 dx cx refractiva, reposo hasta el 7/06/2024 inclisiva/ certificado 10/06/24 indico reposo hasta cirguia del ojo izqueirdo, nuevo control postqx 13/06/24 // certificado 13/06/24 dx cirugia refractiva con fecha 13/06/24 oi, indica reposo hasta 19/06/24 // certificado 19/06/24 dx alto oftalmologica a partir del 20/06/24. La colaboradora refiere estar en tto con atibiotico y lagrimas oftalmologicas, refiere ausencia de dolor, solo sensacion de ojo seco. 24/06 envia email el dia miercoles 19/06 con certificado del 14/06 de donacion de sangre con indicacion de reposo de 24hs. 24/06 envia email del 22/06 con certificado 22/06 dx bronquitis reposo por 48 hs 24/06 envia email del 22/06 con certificado 22/06 dx sospecha de dengue reposo por 72 horas.//27/4 presenta constancia de reposo del 18/6 por 72 hs por sospecha dengue, muestra estudios dengue confiormado. 24/06 NO JUSTIFICA, ya que el certificado con fecha 14/06 que envia por email carece de indicacion de reposo. 24/06 email con certificado 21/06/24 dx gripe, reposo 48 horas./Se recibe de rrhh cert del 23/6 dx:gripe atencion virtual, reposo 24hs. cito a ml. Acude a ml con certificados del 21 y 23/6, al EF: tos productiva, afebril, congestion nasal, mialgias, BEAB, sin ruidos agregados. En tto con antigripales, por ea de acetilcisteina consulta nuevamente el 23/6 para cambio de medicacion. 24/06/24 email con certificado 17/06/24 dx cuadro de infeccion resp. aguda, reposo 72 horas. 24/06/24 email con cert. 22/6/24 dx rinofaringolaringitis, reposo por 48 hs 24/06 email del sector de enfermeria con aviso de ausencia de la colaboradora el dia 23/06, nos comunicamos via email solicitandole que acuda a consulta con el certificado. CERTIFICADO PENDIENTE//envia certficado del 23/6 dx:gec, reposo 24hs 24/06 acude a consulta de medicina laboral, refiere que mañana pasara con certficado original por lumbalgia. Refiere que le indicaron en guardia 10 sesione de FKT y que sacara turno con un traumatologo para seguimiento, refiere estar en tto con dioxaflex B12 24/06 email con certificado 24/06/24 dx cefalea, reposo 24 hs y control 24/06 email con aviso por parte del sector de ausencia de la colaboradora por dolor de espalda, cervicales y abdomen.//envia por mail devolucion de medico a domicilio, dx: lumbalgia, lasegue + con discopatia. reposo 24hs. Retoma el 25/6 19/06 certificado del 15/06 con dx de sme gripal y otitis con reposo por 72hs, le indicaron tto con amoxiclavulanico y certificado del 18/06 con reposo por 48hs ambos atencion presencial en control domiciliario, 19/06 certificado del 15/06 con dx de sme gripal y otitis con reposo por 72hs, le indicaron tto con amoxiclavulanico y certificado del 18/06 con reposo por 48hs ambos atencion presencial en control domiciliario, 19/06 certificado del 15/06 con dx de sme gripal y otitis con reposo por 72hs, le indicaron tto con amoxiclavulanico y certificado del 18/06 con reposo por 48hs ambos atencion presencial en control domiciliario, 25/6 Envia mail con cert del 13/6 por intervencion qx, reposo 4 dias. refiere solo se ausenta 16/6. Se envia mail que especifique intervencion sin respuesta./Se envia mail nuevamente 25/6, reifere se opero de varices en ambos mmii, control con cx el 3/7, refiere solo se ausenta el 16/6. 25/6 acude a ml con cert del 25/6 dx: crisis de migraña, reposo 24hs. Tto con keterolac+reliveran ev, paciente muy sintomatica. 25/6 envia mail con cert del 24/6 dx: adenomegalias dolorosas con lesion cutanea asociada homolateral. reposo 24hs 26/06 paciente envia mail con certificado digital del 25/06 con dx de influenza reposo por 24hs 26/06 envia certificado por mail del 24/06 con dx de faringitis con reposo por 24hs y envia certificado del 25/06 con dx de inyeccion conjuntivial y reposo por 48hs. / 03/07 acude a ml con certificado oroginal del 25/06 26/6 envia certificado 72 hs puncion mama 26/6 envia constancia de reposo 72 hs puncion mama 28/6 recibo certificado de 72 hs de reposo por herpes 28/6 recibo certificado del 28/6 gastroenteritis reposo 48hs (trabaja sadofe) 1/07 recibo email con certificado 28/06 dx sme gripal reposo por 48 horas 1/07 recibo email certificado 28/06 dx diarrea reposo por 48 horas 1/07 recibo email con aviso de ausencia, le escribo a la colaboradora por novedades y certificado 1/07 recibo email certificado 29/06 dx cervicalgia tensional, reposo por 7 días. Tta FKT 10 sesiones,eterocoxib, pridinol. Se la cita a control. //2/7 refiere viene el jueves 4/07 entre las 14.30 y 15.30hs//4/7 acude con certificado de reposo 29/6 por 7 dias, presenta rectificacion cervical. Turno 11/07 resoncia // 17/7 Se recibe por mail el informe de RM: protrusiones postero-centrales de los discos C4-5y C5-6, con leve impronta sobre la médula espinal. Prostrusión posterio central y subarticular derecha del disco C6-7 con fisura del anillo fibroso y leve importan sobre la médula espinal. Discopatias focales entre C4 y C7, con leve importan sobre la médula espional. 1/07 recibo email certificado 29/06 dx IVAS, reposo por 48 hs 1/07 recibo email de aviso de ausencia, le escribo al colaborador por novedades y certificado 1/07 recibo email 30/06 dx rinofaringitis aguda, reposo de 24 hs 1/07 recibo email 30/06 dx faringitis aguda, reposo 24 hs 1/07 recibo email de aviso de ausencia, le escribo al colaboradora por novedades y certificado/ 2/7 recibo certificadod de faringirtis reposo 72hs. Cito a ML / 8/7 acude a consultorio para entrega de certificados: 01/07 reposo 72 hs dx farinigits. 04/07 reposos 48 hs, dx sme gripal 1/07 recibo email de aviso de ausencia, le escribo a la colaboradora por novedades y certificado. // 2/07 certif bronquitis sin indicacion de reposo, enseña rx 28/06 se evidencia dilatacion bronquial, bronquiectasias? izq, le realizaron lab el cual no adjunta, inicio tto amc 1/07 recibo email con aviso de ausencia, se informara que faltó por mudanza sin presentar previa solicitud aprobada 1/07 email con certificado 7/06/ dx sme gripal, reposo por 72 hs. 2/07 certif 30/06 faringitis reposo 24hs 2/07 certif 2/07 reposo 24hs faringitis viral, optimizaron tto c antialergico y antitusivo 2/7 recibo certificado de gastroenteritis, reposos 48 hs. Refiere se ausento solo el 1/7 2/7 recibo certificado de gastroenteritis, reposos 24 hs, cito a ML. //03/07 Se le envia mail recordando que debe traer certificado 03/07 Paciente envia certificado del 02/07 con dx de cuadro gripal reposo por 24hs 03/07 envia certificado del 20/07 con dx de gea con reposo por 48hs//4/7 aporta constancia de reposo 48 hs por gec se justifica guardia Paciente envia certificado digital con fecha del 02/07 con dx de dolor por puncion mamaria, y envia informe de anatomia patologica : Mama derecha (hora 10, periareolar), biopsia: - CARCINOMA INFILTRANTE DE TIPO NO ESPECIAL (NST). - GRADO HISTOLÓGICO (NOTTINGHAM): GRADO 2 (G3 N2 M1 03/7 envia constancia de reposo 29/6 y 30/6 por 24 hs 4/7 aporta constancia de1/7 reposo 72 hs. 4/7 envia constancia de reposo 24 hs, se encuentra en preparacion para VCC 5/7 recibo certificado de 48hs reposo por gastroenterocolitis 5/7 concurre colaboradora con certificados de ausencia por sme gripa 25/6 por 5 dis , 30/6 por 5 dias . alta medica del 4/6 para reincorporarse el 5/7. La colaboradora se ausento los dias 26,27y28 de junio y 1,2,3,4 de Julio. 5/7 concurre colaboradora con certificados de ausencia por sme gripa 25/6 por 5 dis , 30/6 por 5 dias . alta medica del 4/6 para reincorporarse el 5/7. La colaboradora se ausento los dias 26,27y28 de junio y 1,2,3,4 de Julio. 8/7 envia mail con certificado 5/7 pte acude a guardia, reposo 48 hs. dx dolor. // 12/7 concurre a MOL con certificado de 5/7 con reposo 48hs por dolor abdominal. Refiere ITU, esta con cipro500 cada 12hs . envia receta de atmb se solicita mande urocultiivo y sedimento efectudo el 5/7. le quedan dos disa. Refiere ya asintomatica. 8/7 se recibe mail de coordinacion informando ausentismo de colaboradora 8/7 recibo mail con certificado enterocololitis reposo 48 hs // 15/7 se da aviso a RRHH sobre ausencia a multiples citaciones a control//acude a ml con cert del 6/7 dx enterocoliits, reoso 48hs. Mejoria sintomatica. 8/7 se recibe mail de coordinacion informando ausentismo de colaborador/ 12/7 trae certificado de reposos 72 hs, pr sme gripal. se ausento el 7/7 y 9/7 8/7 se recibe mail con certificado 22/6 dx sme gripal, reposo 48 hs 8/7 se recibe mail de coordinacion informando ausentismo de colaboradora 8/7 se recibe mail de coordinacion informando ausentismo de colaboradora 1/07 recibo email de aviso de ausencia, le escribo al colaboradora por novedades y certificado/ 2/7 recibo certificadod de faringirtis reposo 72hs. Cito a ML / 8/7 acude a consultorio para entrega de certificados: 01/07 reposo 72 hs dx farinigits. 04/07 reposos 48 hs, dx sme gripal 10/7 recibo mail de coordinacion informando ausentismo de colaboradora 10/7 recibo mail coordinacion con certificado 8/7 sme gripal, reposo 72 hs//11/7 deja constancia original reposo 72 hs 10/7 recibo mail de coordinacion informando ausentismo de colaboradora / se recibe mail con certificado \" se hace constar que la paciente amerita 48 hs de reposo ya que presenta proceso infeccioso e inflamación\". //11/7 se recibe certificado en papel reposo 48 hs 10/7 recibo mail con certificado 8/7 sme febril + mialgias, reposo 48 hs 12/7 recibo certificado de atencion virtual por diarrea y gastroenteritis, reposos 24hs, ausento a noche 11/7 10/7 recibo mail de coordinacion informando ausentismo de colaboradora 10/7 recibo mail con certificado gec reposo 24 hs 10/7 recibo mail de coordinacion informando retiro anticipado de colaboradora. s recibe certificado 10/7 recibo mail con certificado 10/7 dolor abdominal reposo 48 hs 11/7/24 envia constamncia de reposo 72 hs se cita a control./ bacrim optamox /12/7 trae certificado de reposo 72 hs por mordedura de ghato en 4to dedo de mano izquierda. cito a control de herida previo a ingreso su turno el lunes 15. // 15/7 acude a control. Herida con costras, sin signos de flogosis. Se da pautas de alarma. En condiciones de retorno laboral. 11/7 deja constancia de reposo 48 hs 29/6. trabaja noche A 11/7 se recibe constancia de reposo 48 hs, pasara por consultorio // 12/7 concurre a consultorio con certificado de migrala 10/7 reposo 48hs. Se auysento solo el 10/7 a su turno. refiere concurrencia con sme gripal por lo que cambio su medicacion ppor paracetamol. Trabaja hoy 12/7 12/7 recibo certificado de reposo 48 hs por gastroenterocolitis. Cito 12 o 14/7. LLama por tel y da aviso de que concurrira 16/7. 12/7 mail de sector ausencia por \"Infección aguda de VAS\" con reposo de 48 hs. Envio mail pidiendo certificado 12/7 envia certificado de atencion por rinofaringitis, reposo 24hs 12/7 envia certificado de gastroenteritis reposo 48hs. Noches impares A- solo ausente el 7/12 12/7 recibo certidfiado del 8/7 por sme gripal reposo 48hs. Solo se ausento a su guardiadel 8/7. 12/7 recibo mail con dcertificado de dolor abdominal reposo 24hs. cito a control ML con certificcdos 15/7.// Informan que se opera el 13/7 12/7 mail del sector informando ausencia por cervicalgia. envio mail solicitando certificados 12/7 certificado de bronquitis reposo 72hs. Solicitos diasl laborles y cito el lunes15//acude a ml con cer del 12/7 dx: bronquitis, reposo 72hs. En tto con amoxicilina + ac clavulanico x 7 dias + acetilcisteina. Afebril, tos residual, mejoria sintomatica. 15/7 envia por mail certificado 12/7 pte concurrio a cirugia de exodoncia en el dia de la fecha, reposo 72 hs. Corresponde unicamente a 12/7 porque trabaja Lu.Vier 15/7 se recibe mail de coordinadora informando ausentismo de colaboradora el día 12/7. Envia certificado por mail 12/7 cefalea reposo 24 hs. Concurria 18/7 a ml. 15/7 se recibe mail de coordinacion informando ausentismo de colaborador 15/7 se recibe mail con certificado 13/7 dx bronquitis reposo 48 hs/18/7/2024 se presenta con certificado 13/7 reposo 48 hs crisis asmatica, antecedentes de asma. 15/7 se recibe mail de coordinacion infromando ausentismo de colaboradora del 14/7. Pendiente certificado// 19/7 recibo mail con certificado del 14/7 por gripe, reposo 48hs, concurre a consultorio con certificado de gripe reposo 48hs, se ausento solo la noche del 14/7. 15/7 envia por mail certificado 14/7 dx gec reposo 24 hs 15/7 sector avisa ausentismo de colaboradora 15/7 envia mail con certificado 15/7 extraccion pieza dentaria, reposo 72 hs 16/7 se recibe mail del 15/7 desde su sector informando que el colaborador se ausentara 48hs por disfonia, pendiente certificado.// Envia cert del 15/7 dx: disfonia grado II, reposo 48hs. 16/07 se recibe mail desde sector informando de ausencia sin aviso, que luego posterior comunicacion informa crisis de ansiedad. Se envia mail a la colaboradora.Pendiente certfiicado. // 22/7 se recibe mail (16/7) con certificado 13/7 angustia reposo 24 hs 16/07 se recibe cert del 14/6 dx: sme gripal + crisis asmatica. Reposo 72hs, adjunta visita de alfamedica a domicilio del 16/7. Cito a ml.\n"
          ]
        }
      ]
    },
    {
      "cell_type": "code",
      "source": [
        "X.info()"
      ],
      "metadata": {
        "colab": {
          "base_uri": "https://localhost:8080/"
        },
        "id": "c196H-Om0Wfc",
        "outputId": "2501e5e8-f51d-469e-81e3-ba0ea8762eaf"
      },
      "execution_count": 51,
      "outputs": [
        {
          "output_type": "stream",
          "name": "stdout",
          "text": [
            "<class 'pandas.core.series.Series'>\n",
            "RangeIndex: 29 entries, 0 to 28\n",
            "Series name: None\n",
            "Non-Null Count  Dtype \n",
            "--------------  ----- \n",
            "29 non-null     object\n",
            "dtypes: object(1)\n",
            "memory usage: 360.0+ bytes\n"
          ]
        }
      ]
    },
    {
      "cell_type": "markdown",
      "source": [
        "## data unipalabras, sin aplicar quitar stopwords"
      ],
      "metadata": {
        "id": "gxFfMN4xAM1w"
      }
    },
    {
      "cell_type": "code",
      "source": [
        "# queda mas prolijo en cuentapalabras sin las stopwords asique de una aplicare elproximo codigo data1 y no este\n",
        "\"\"\"\n",
        "counter = CountVectorizer() # el conteo de todos los tokens unicos\n",
        "\n",
        "X_t = counter.fit_transform(X)\n",
        "\n",
        "# X_t.shape # 95 filas cada registro; 982 tokens\n",
        "# counter.vocabulary_ # cada palabra cuantas apariciones tiene\n",
        "\n",
        "data = pd.DataFrame(X_t.toarray().sum(axis=0), index = counter.get_feature_names_out(), columns=['freq'])\n",
        "\"\"\""
      ],
      "metadata": {
        "id": "_F-_QMdvVBB7"
      },
      "execution_count": null,
      "outputs": []
    },
    {
      "cell_type": "markdown",
      "source": [
        "## data1: conter aplicando quitar stopwords"
      ],
      "metadata": {
        "id": "0U4juNUIxGDn"
      }
    },
    {
      "cell_type": "code",
      "source": [
        "spacy_stopwords = spacy.lang.es.stop_words.STOP_WORDS\n",
        "counter1 = CountVectorizer(stop_words=list(spacy_stopwords))\n",
        "\n",
        "X_t1 = counter1.fit_transform(X)  # counter_ sin nada, para tokenizar individualmente\n",
        "\n",
        "data1 = pd.DataFrame(X_t1.toarray().sum(axis=0),\n",
        "                    index = counter1.get_feature_names_out(),\n",
        "                    columns=['freq'])\n",
        "data1.sort_values('freq',ascending=False)"
      ],
      "metadata": {
        "id": "01OJHxptXcL7",
        "colab": {
          "base_uri": "https://localhost:8080/",
          "height": 424
        },
        "outputId": "5e35bcc1-ccf2-45d0-d458-3d6e84494d74"
      },
      "execution_count": 54,
      "outputs": [
        {
          "output_type": "execute_result",
          "data": {
            "text/plain": [
              "             freq\n",
              "reposo        113\n",
              "certificado    93\n",
              "06             73\n",
              "dx             62\n",
              "mail           51\n",
              "...           ...\n",
              "id              1\n",
              "c5              1\n",
              "c6              1\n",
              "hora            1\n",
              "vomitos         1\n",
              "\n",
              "[554 rows x 1 columns]"
            ],
            "text/html": [
              "\n",
              "  <div id=\"df-dcc3d49d-2120-45c4-9494-2d36f70a1e8d\" class=\"colab-df-container\">\n",
              "    <div>\n",
              "<style scoped>\n",
              "    .dataframe tbody tr th:only-of-type {\n",
              "        vertical-align: middle;\n",
              "    }\n",
              "\n",
              "    .dataframe tbody tr th {\n",
              "        vertical-align: top;\n",
              "    }\n",
              "\n",
              "    .dataframe thead th {\n",
              "        text-align: right;\n",
              "    }\n",
              "</style>\n",
              "<table border=\"1\" class=\"dataframe\">\n",
              "  <thead>\n",
              "    <tr style=\"text-align: right;\">\n",
              "      <th></th>\n",
              "      <th>freq</th>\n",
              "    </tr>\n",
              "  </thead>\n",
              "  <tbody>\n",
              "    <tr>\n",
              "      <th>reposo</th>\n",
              "      <td>113</td>\n",
              "    </tr>\n",
              "    <tr>\n",
              "      <th>certificado</th>\n",
              "      <td>93</td>\n",
              "    </tr>\n",
              "    <tr>\n",
              "      <th>06</th>\n",
              "      <td>73</td>\n",
              "    </tr>\n",
              "    <tr>\n",
              "      <th>dx</th>\n",
              "      <td>62</td>\n",
              "    </tr>\n",
              "    <tr>\n",
              "      <th>mail</th>\n",
              "      <td>51</td>\n",
              "    </tr>\n",
              "    <tr>\n",
              "      <th>...</th>\n",
              "      <td>...</td>\n",
              "    </tr>\n",
              "    <tr>\n",
              "      <th>id</th>\n",
              "      <td>1</td>\n",
              "    </tr>\n",
              "    <tr>\n",
              "      <th>c5</th>\n",
              "      <td>1</td>\n",
              "    </tr>\n",
              "    <tr>\n",
              "      <th>c6</th>\n",
              "      <td>1</td>\n",
              "    </tr>\n",
              "    <tr>\n",
              "      <th>hora</th>\n",
              "      <td>1</td>\n",
              "    </tr>\n",
              "    <tr>\n",
              "      <th>vomitos</th>\n",
              "      <td>1</td>\n",
              "    </tr>\n",
              "  </tbody>\n",
              "</table>\n",
              "<p>554 rows × 1 columns</p>\n",
              "</div>\n",
              "    <div class=\"colab-df-buttons\">\n",
              "\n",
              "  <div class=\"colab-df-container\">\n",
              "    <button class=\"colab-df-convert\" onclick=\"convertToInteractive('df-dcc3d49d-2120-45c4-9494-2d36f70a1e8d')\"\n",
              "            title=\"Convert this dataframe to an interactive table.\"\n",
              "            style=\"display:none;\">\n",
              "\n",
              "  <svg xmlns=\"http://www.w3.org/2000/svg\" height=\"24px\" viewBox=\"0 -960 960 960\">\n",
              "    <path d=\"M120-120v-720h720v720H120Zm60-500h600v-160H180v160Zm220 220h160v-160H400v160Zm0 220h160v-160H400v160ZM180-400h160v-160H180v160Zm440 0h160v-160H620v160ZM180-180h160v-160H180v160Zm440 0h160v-160H620v160Z\"/>\n",
              "  </svg>\n",
              "    </button>\n",
              "\n",
              "  <style>\n",
              "    .colab-df-container {\n",
              "      display:flex;\n",
              "      gap: 12px;\n",
              "    }\n",
              "\n",
              "    .colab-df-convert {\n",
              "      background-color: #E8F0FE;\n",
              "      border: none;\n",
              "      border-radius: 50%;\n",
              "      cursor: pointer;\n",
              "      display: none;\n",
              "      fill: #1967D2;\n",
              "      height: 32px;\n",
              "      padding: 0 0 0 0;\n",
              "      width: 32px;\n",
              "    }\n",
              "\n",
              "    .colab-df-convert:hover {\n",
              "      background-color: #E2EBFA;\n",
              "      box-shadow: 0px 1px 2px rgba(60, 64, 67, 0.3), 0px 1px 3px 1px rgba(60, 64, 67, 0.15);\n",
              "      fill: #174EA6;\n",
              "    }\n",
              "\n",
              "    .colab-df-buttons div {\n",
              "      margin-bottom: 4px;\n",
              "    }\n",
              "\n",
              "    [theme=dark] .colab-df-convert {\n",
              "      background-color: #3B4455;\n",
              "      fill: #D2E3FC;\n",
              "    }\n",
              "\n",
              "    [theme=dark] .colab-df-convert:hover {\n",
              "      background-color: #434B5C;\n",
              "      box-shadow: 0px 1px 3px 1px rgba(0, 0, 0, 0.15);\n",
              "      filter: drop-shadow(0px 1px 2px rgba(0, 0, 0, 0.3));\n",
              "      fill: #FFFFFF;\n",
              "    }\n",
              "  </style>\n",
              "\n",
              "    <script>\n",
              "      const buttonEl =\n",
              "        document.querySelector('#df-dcc3d49d-2120-45c4-9494-2d36f70a1e8d button.colab-df-convert');\n",
              "      buttonEl.style.display =\n",
              "        google.colab.kernel.accessAllowed ? 'block' : 'none';\n",
              "\n",
              "      async function convertToInteractive(key) {\n",
              "        const element = document.querySelector('#df-dcc3d49d-2120-45c4-9494-2d36f70a1e8d');\n",
              "        const dataTable =\n",
              "          await google.colab.kernel.invokeFunction('convertToInteractive',\n",
              "                                                    [key], {});\n",
              "        if (!dataTable) return;\n",
              "\n",
              "        const docLinkHtml = 'Like what you see? Visit the ' +\n",
              "          '<a target=\"_blank\" href=https://colab.research.google.com/notebooks/data_table.ipynb>data table notebook</a>'\n",
              "          + ' to learn more about interactive tables.';\n",
              "        element.innerHTML = '';\n",
              "        dataTable['output_type'] = 'display_data';\n",
              "        await google.colab.output.renderOutput(dataTable, element);\n",
              "        const docLink = document.createElement('div');\n",
              "        docLink.innerHTML = docLinkHtml;\n",
              "        element.appendChild(docLink);\n",
              "      }\n",
              "    </script>\n",
              "  </div>\n",
              "\n",
              "\n",
              "<div id=\"df-8105a214-0363-4cb2-9e78-f79ab41561dc\">\n",
              "  <button class=\"colab-df-quickchart\" onclick=\"quickchart('df-8105a214-0363-4cb2-9e78-f79ab41561dc')\"\n",
              "            title=\"Suggest charts\"\n",
              "            style=\"display:none;\">\n",
              "\n",
              "<svg xmlns=\"http://www.w3.org/2000/svg\" height=\"24px\"viewBox=\"0 0 24 24\"\n",
              "     width=\"24px\">\n",
              "    <g>\n",
              "        <path d=\"M19 3H5c-1.1 0-2 .9-2 2v14c0 1.1.9 2 2 2h14c1.1 0 2-.9 2-2V5c0-1.1-.9-2-2-2zM9 17H7v-7h2v7zm4 0h-2V7h2v10zm4 0h-2v-4h2v4z\"/>\n",
              "    </g>\n",
              "</svg>\n",
              "  </button>\n",
              "\n",
              "<style>\n",
              "  .colab-df-quickchart {\n",
              "      --bg-color: #E8F0FE;\n",
              "      --fill-color: #1967D2;\n",
              "      --hover-bg-color: #E2EBFA;\n",
              "      --hover-fill-color: #174EA6;\n",
              "      --disabled-fill-color: #AAA;\n",
              "      --disabled-bg-color: #DDD;\n",
              "  }\n",
              "\n",
              "  [theme=dark] .colab-df-quickchart {\n",
              "      --bg-color: #3B4455;\n",
              "      --fill-color: #D2E3FC;\n",
              "      --hover-bg-color: #434B5C;\n",
              "      --hover-fill-color: #FFFFFF;\n",
              "      --disabled-bg-color: #3B4455;\n",
              "      --disabled-fill-color: #666;\n",
              "  }\n",
              "\n",
              "  .colab-df-quickchart {\n",
              "    background-color: var(--bg-color);\n",
              "    border: none;\n",
              "    border-radius: 50%;\n",
              "    cursor: pointer;\n",
              "    display: none;\n",
              "    fill: var(--fill-color);\n",
              "    height: 32px;\n",
              "    padding: 0;\n",
              "    width: 32px;\n",
              "  }\n",
              "\n",
              "  .colab-df-quickchart:hover {\n",
              "    background-color: var(--hover-bg-color);\n",
              "    box-shadow: 0 1px 2px rgba(60, 64, 67, 0.3), 0 1px 3px 1px rgba(60, 64, 67, 0.15);\n",
              "    fill: var(--button-hover-fill-color);\n",
              "  }\n",
              "\n",
              "  .colab-df-quickchart-complete:disabled,\n",
              "  .colab-df-quickchart-complete:disabled:hover {\n",
              "    background-color: var(--disabled-bg-color);\n",
              "    fill: var(--disabled-fill-color);\n",
              "    box-shadow: none;\n",
              "  }\n",
              "\n",
              "  .colab-df-spinner {\n",
              "    border: 2px solid var(--fill-color);\n",
              "    border-color: transparent;\n",
              "    border-bottom-color: var(--fill-color);\n",
              "    animation:\n",
              "      spin 1s steps(1) infinite;\n",
              "  }\n",
              "\n",
              "  @keyframes spin {\n",
              "    0% {\n",
              "      border-color: transparent;\n",
              "      border-bottom-color: var(--fill-color);\n",
              "      border-left-color: var(--fill-color);\n",
              "    }\n",
              "    20% {\n",
              "      border-color: transparent;\n",
              "      border-left-color: var(--fill-color);\n",
              "      border-top-color: var(--fill-color);\n",
              "    }\n",
              "    30% {\n",
              "      border-color: transparent;\n",
              "      border-left-color: var(--fill-color);\n",
              "      border-top-color: var(--fill-color);\n",
              "      border-right-color: var(--fill-color);\n",
              "    }\n",
              "    40% {\n",
              "      border-color: transparent;\n",
              "      border-right-color: var(--fill-color);\n",
              "      border-top-color: var(--fill-color);\n",
              "    }\n",
              "    60% {\n",
              "      border-color: transparent;\n",
              "      border-right-color: var(--fill-color);\n",
              "    }\n",
              "    80% {\n",
              "      border-color: transparent;\n",
              "      border-right-color: var(--fill-color);\n",
              "      border-bottom-color: var(--fill-color);\n",
              "    }\n",
              "    90% {\n",
              "      border-color: transparent;\n",
              "      border-bottom-color: var(--fill-color);\n",
              "    }\n",
              "  }\n",
              "</style>\n",
              "\n",
              "  <script>\n",
              "    async function quickchart(key) {\n",
              "      const quickchartButtonEl =\n",
              "        document.querySelector('#' + key + ' button');\n",
              "      quickchartButtonEl.disabled = true;  // To prevent multiple clicks.\n",
              "      quickchartButtonEl.classList.add('colab-df-spinner');\n",
              "      try {\n",
              "        const charts = await google.colab.kernel.invokeFunction(\n",
              "            'suggestCharts', [key], {});\n",
              "      } catch (error) {\n",
              "        console.error('Error during call to suggestCharts:', error);\n",
              "      }\n",
              "      quickchartButtonEl.classList.remove('colab-df-spinner');\n",
              "      quickchartButtonEl.classList.add('colab-df-quickchart-complete');\n",
              "    }\n",
              "    (() => {\n",
              "      let quickchartButtonEl =\n",
              "        document.querySelector('#df-8105a214-0363-4cb2-9e78-f79ab41561dc button');\n",
              "      quickchartButtonEl.style.display =\n",
              "        google.colab.kernel.accessAllowed ? 'block' : 'none';\n",
              "    })();\n",
              "  </script>\n",
              "</div>\n",
              "\n",
              "    </div>\n",
              "  </div>\n"
            ],
            "application/vnd.google.colaboratory.intrinsic+json": {
              "type": "dataframe",
              "summary": "{\n  \"name\": \"data1\",\n  \"rows\": 554,\n  \"fields\": [\n    {\n      \"column\": \"freq\",\n      \"properties\": {\n        \"dtype\": \"number\",\n        \"std\": 9,\n        \"min\": 1,\n        \"max\": 113,\n        \"num_unique_values\": 35,\n        \"samples\": [\n          9,\n          24,\n          11\n        ],\n        \"semantic_type\": \"\",\n        \"description\": \"\"\n      }\n    }\n  ]\n}"
            }
          },
          "metadata": {},
          "execution_count": 54
        }
      ]
    },
    {
      "cell_type": "markdown",
      "source": [
        "## Lematizacion"
      ],
      "metadata": {
        "id": "Erm66RvkjhUe"
      }
    },
    {
      "cell_type": "markdown",
      "source": [],
      "metadata": {
        "id": "jDpDf6sqktA4"
      }
    },
    {
      "cell_type": "code",
      "source": [
        "%%capture\n",
        "!python -m spacy download es_core_news_md"
      ],
      "metadata": {
        "colab": {
          "base_uri": "https://localhost:8080/"
        },
        "collapsed": true,
        "id": "17nG0_rHk3kk",
        "outputId": "079937f3-6127-44e1-bb0e-742b434ca0b4"
      },
      "execution_count": 7,
      "outputs": [
        {
          "output_type": "stream",
          "name": "stdout",
          "text": [
            "Traceback (most recent call last):\n",
            "  File \"<frozen importlib._bootstrap>\", line 688, in _load_unlocked\n",
            "  File \"<frozen importlib._bootstrap_external>\", line 883, in exec_module\n",
            "  File \"<frozen importlib._bootstrap>\", line 241, in _call_with_frames_removed\n",
            "  File \"/usr/local/lib/python3.10/dist-packages/thinc/types.py\", line 25, in <module>\n",
            "    from .compat import cupy, has_cupy\n",
            "  File \"/usr/local/lib/python3.10/dist-packages/thinc/compat.py\", line 35, in <module>\n",
            "    import torch\n",
            "  File \"/usr/local/lib/python3.10/dist-packages/torch/__init__.py\", line 2059, in <module>\n",
            "    from torch import (\n",
            "  File \"/usr/local/lib/python3.10/dist-packages/torch/multiprocessing/__init__.py\", line 41, in <module>\n",
            "    from .spawn import (\n",
            "  File \"/usr/local/lib/python3.10/dist-packages/torch/multiprocessing/spawn.py\", line 4, in <module>\n",
            "    import multiprocessing.connection\n",
            "  File \"/usr/lib/python3.10/multiprocessing/connection.py\", line 30, in <module>\n",
            "    import _winapi\n",
            "  File \"<frozen importlib._bootstrap>\", line 1027, in _find_and_load\n",
            "  File \"<frozen importlib._bootstrap>\", line 1002, in _find_and_load_unlocked\n",
            "  File \"<frozen importlib._bootstrap>\", line 945, in _find_spec\n",
            "  File \"/usr/local/lib/python3.10/dist-packages/_distutils_hack/__init__.py\", line 108, in find_spec\n",
            "    method_name = 'spec_for_{fullname}'.format(**locals())\n",
            "KeyboardInterrupt\n",
            "\n",
            "During handling of the above exception, another exception occurred:\n",
            "\n",
            "Traceback (most recent call last):\n",
            "  File \"/usr/lib/python3.10/runpy.py\", line 187, in _run_module_as_main\n",
            "    mod_name, mod_spec, code = _get_module_details(mod_name, _Error)\n",
            "  File \"/usr/lib/python3.10/runpy.py\", line 146, in _get_module_details\n",
            "    return _get_module_details(pkg_main_name, error)\n",
            "  File \"/usr/lib/python3.10/runpy.py\", line 110, in _get_module_details\n",
            "    __import__(pkg_name)\n",
            "  File \"/usr/local/lib/python3.10/dist-packages/spacy/__init__.py\", line 6, in <module>\n",
            "    from .errors import setup_default_warnings\n",
            "  File \"/usr/local/lib/python3.10/dist-packages/spacy/errors.py\", line 3, in <module>\n",
            "    from .compat import Literal\n",
            "  File \"/usr/local/lib/python3.10/dist-packages/spacy/compat.py\", line 4, in <module>\n",
            "    from thinc.util import copy_array\n",
            "  File \"/usr/local/lib/python3.10/dist-packages/thinc/__init__.py\", line 5, in <module>\n",
            "    from .config import registry\n",
            "  File \"/usr/local/lib/python3.10/dist-packages/thinc/config.py\", line 5, in <module>\n",
            "    from .types import Decorator\n",
            "  File \"<frozen importlib._bootstrap>\", line 1027, in _find_and_load\n",
            "  File \"<frozen importlib._bootstrap>\", line 1006, in _find_and_load_unlocked\n",
            "  File \"<frozen importlib._bootstrap>\", line 688, in _load_unlocked\n",
            "KeyboardInterrupt\n",
            "^C\n"
          ]
        }
      ]
    },
    {
      "cell_type": "code",
      "source": [
        "#t: spacy.tokens.doc.Doc\n",
        "# solo alpha (sin carateres especiales ni numeros)\n",
        "documento_alpha = [token for token in t if token.is_alpha]\n",
        "#print(documento_alpha)\n",
        "\n",
        "# sin stopwords\n",
        "documento_alpha_sin_stopword = [token for token in documento_alpha if not token.is_stop]\n",
        "#print(documento_alpha_sin_stopword)\n",
        "\n",
        "# lematizacion\n",
        "lemas = [token.lemma_ for token in documento_alpha_sin_stopword]\n",
        "lemasdf = pd.DataFrame(lemas)\n",
        "display(\"lemas\", lemasdf.value_counts())\n",
        "\n",
        "# import these modules\n",
        "from nltk.stem import PorterStemmer\n",
        "from nltk.tokenize import word_tokenize\n",
        "\n",
        "ps = PorterStemmer()\n",
        "\n",
        "# choose some words to be stemmed\n",
        "stemas = pd.DataFrame([ps.stem(token) for token in lemas])\n",
        "display(\"stems\", stemas.value_counts())\n"
      ],
      "metadata": {
        "colab": {
          "base_uri": "https://localhost:8080/",
          "height": 999
        },
        "id": "a9Sk8lEgjkWJ",
        "outputId": "fa242cee-86d4-4cbd-d219-35383ffdd719",
        "collapsed": true
      },
      "execution_count": 68,
      "outputs": [
        {
          "output_type": "display_data",
          "data": {
            "text/plain": [
              "'lemas'"
            ],
            "application/vnd.google.colaboratory.intrinsic+json": {
              "type": "string"
            }
          },
          "metadata": {}
        },
        {
          "output_type": "display_data",
          "data": {
            "text/plain": [
              "0          \n",
              "reposo         119\n",
              "certificado     98\n",
              "dx              61\n",
              "mail            51\n",
              "hs              42\n",
              "              ... \n",
              "disa             1\n",
              "dioxaflex        1\n",
              "dilatacion       1\n",
              "dificultad       1\n",
              "x                1\n",
              "Name: count, Length: 490, dtype: int64"
            ],
            "text/html": [
              "<div>\n",
              "<style scoped>\n",
              "    .dataframe tbody tr th:only-of-type {\n",
              "        vertical-align: middle;\n",
              "    }\n",
              "\n",
              "    .dataframe tbody tr th {\n",
              "        vertical-align: top;\n",
              "    }\n",
              "\n",
              "    .dataframe thead th {\n",
              "        text-align: right;\n",
              "    }\n",
              "</style>\n",
              "<table border=\"1\" class=\"dataframe\">\n",
              "  <thead>\n",
              "    <tr style=\"text-align: right;\">\n",
              "      <th></th>\n",
              "      <th>count</th>\n",
              "    </tr>\n",
              "    <tr>\n",
              "      <th>0</th>\n",
              "      <th></th>\n",
              "    </tr>\n",
              "  </thead>\n",
              "  <tbody>\n",
              "    <tr>\n",
              "      <th>reposo</th>\n",
              "      <td>119</td>\n",
              "    </tr>\n",
              "    <tr>\n",
              "      <th>certificado</th>\n",
              "      <td>98</td>\n",
              "    </tr>\n",
              "    <tr>\n",
              "      <th>dx</th>\n",
              "      <td>61</td>\n",
              "    </tr>\n",
              "    <tr>\n",
              "      <th>mail</th>\n",
              "      <td>51</td>\n",
              "    </tr>\n",
              "    <tr>\n",
              "      <th>hs</th>\n",
              "      <td>42</td>\n",
              "    </tr>\n",
              "    <tr>\n",
              "      <th>...</th>\n",
              "      <td>...</td>\n",
              "    </tr>\n",
              "    <tr>\n",
              "      <th>disa</th>\n",
              "      <td>1</td>\n",
              "    </tr>\n",
              "    <tr>\n",
              "      <th>dioxaflex</th>\n",
              "      <td>1</td>\n",
              "    </tr>\n",
              "    <tr>\n",
              "      <th>dilatacion</th>\n",
              "      <td>1</td>\n",
              "    </tr>\n",
              "    <tr>\n",
              "      <th>dificultad</th>\n",
              "      <td>1</td>\n",
              "    </tr>\n",
              "    <tr>\n",
              "      <th>x</th>\n",
              "      <td>1</td>\n",
              "    </tr>\n",
              "  </tbody>\n",
              "</table>\n",
              "<p>490 rows × 1 columns</p>\n",
              "</div><br><label><b>dtype:</b> int64</label>"
            ]
          },
          "metadata": {}
        },
        {
          "output_type": "display_data",
          "data": {
            "text/plain": [
              "'stems'"
            ],
            "application/vnd.google.colaboratory.intrinsic+json": {
              "type": "string"
            }
          },
          "metadata": {}
        },
        {
          "output_type": "display_data",
          "data": {
            "text/plain": [
              "0          \n",
              "reposo         119\n",
              "certificado     98\n",
              "dx              62\n",
              "mail            51\n",
              "hs              42\n",
              "              ... \n",
              "hepatologo       1\n",
              "hepatograma      1\n",
              "hepatico         1\n",
              "hcpapel          1\n",
              "x                1\n",
              "Name: count, Length: 478, dtype: int64"
            ],
            "text/html": [
              "<div>\n",
              "<style scoped>\n",
              "    .dataframe tbody tr th:only-of-type {\n",
              "        vertical-align: middle;\n",
              "    }\n",
              "\n",
              "    .dataframe tbody tr th {\n",
              "        vertical-align: top;\n",
              "    }\n",
              "\n",
              "    .dataframe thead th {\n",
              "        text-align: right;\n",
              "    }\n",
              "</style>\n",
              "<table border=\"1\" class=\"dataframe\">\n",
              "  <thead>\n",
              "    <tr style=\"text-align: right;\">\n",
              "      <th></th>\n",
              "      <th>count</th>\n",
              "    </tr>\n",
              "    <tr>\n",
              "      <th>0</th>\n",
              "      <th></th>\n",
              "    </tr>\n",
              "  </thead>\n",
              "  <tbody>\n",
              "    <tr>\n",
              "      <th>reposo</th>\n",
              "      <td>119</td>\n",
              "    </tr>\n",
              "    <tr>\n",
              "      <th>certificado</th>\n",
              "      <td>98</td>\n",
              "    </tr>\n",
              "    <tr>\n",
              "      <th>dx</th>\n",
              "      <td>62</td>\n",
              "    </tr>\n",
              "    <tr>\n",
              "      <th>mail</th>\n",
              "      <td>51</td>\n",
              "    </tr>\n",
              "    <tr>\n",
              "      <th>hs</th>\n",
              "      <td>42</td>\n",
              "    </tr>\n",
              "    <tr>\n",
              "      <th>...</th>\n",
              "      <td>...</td>\n",
              "    </tr>\n",
              "    <tr>\n",
              "      <th>hepatologo</th>\n",
              "      <td>1</td>\n",
              "    </tr>\n",
              "    <tr>\n",
              "      <th>hepatograma</th>\n",
              "      <td>1</td>\n",
              "    </tr>\n",
              "    <tr>\n",
              "      <th>hepatico</th>\n",
              "      <td>1</td>\n",
              "    </tr>\n",
              "    <tr>\n",
              "      <th>hcpapel</th>\n",
              "      <td>1</td>\n",
              "    </tr>\n",
              "    <tr>\n",
              "      <th>x</th>\n",
              "      <td>1</td>\n",
              "    </tr>\n",
              "  </tbody>\n",
              "</table>\n",
              "<p>478 rows × 1 columns</p>\n",
              "</div><br><label><b>dtype:</b> int64</label>"
            ]
          },
          "metadata": {}
        }
      ]
    },
    {
      "cell_type": "markdown",
      "source": [
        "## data2c aplicando sacar stopwords"
      ],
      "metadata": {
        "id": "HGX-spfhyoTr"
      }
    },
    {
      "cell_type": "code",
      "source": [
        "\"\"\"\n",
        "counter2c = CountVectorizer(stop_words=list(stop_words),ngram_range = (2,2))  #an ngram_range of (1, 1) means only unigrams, (1, 2) means unigrams and bigrams, and (2, 2) means only bigrams.\n",
        "\n",
        "X_t2c = counter2c.fit_transform(X)\n",
        "\n",
        "data2c = pd.DataFrame(X_t2c.toarray().sum(axis=0),\n",
        "             index = counter2c.get_feature_names_out(),\n",
        "             columns = ['freq']).sort_values('freq',ascending=False)\n",
        "data2c\n",
        "\"\"\""
      ],
      "metadata": {
        "colab": {
          "base_uri": "https://localhost:8080/"
        },
        "id": "BnEQqFGbyvqe",
        "outputId": "c581bda3-d16f-48c6-ddba-36ec2ca7e370"
      },
      "execution_count": null,
      "outputs": [
        {
          "output_type": "execute_result",
          "data": {
            "text/plain": [
              "\"\\ncounter2c = CountVectorizer(stop_words=list(stop_words),ngram_range = (2,2))  #an ngram_range of (1, 1) means only unigrams, (1, 2) means unigrams and bigrams, and (2, 2) means only bigrams.\\n\\nX_t2c = counter2c.fit_transform(X)\\n\\ndata2c = pd.DataFrame(X_t2c.toarray().sum(axis=0),\\n             index = counter2c.get_feature_names_out(),\\n             columns = ['freq']).sort_values('freq',ascending=False)\\ndata2c\\n\""
            ],
            "application/vnd.google.colaboratory.intrinsic+json": {
              "type": "string"
            }
          },
          "metadata": {},
          "execution_count": 349
        }
      ]
    },
    {
      "cell_type": "markdown",
      "source": [
        "## data2 sin usar sacar stopwords"
      ],
      "metadata": {
        "id": "6Aweoo0ozA04"
      }
    },
    {
      "cell_type": "code",
      "source": [
        "\"\"\"\n",
        "# para contar binomios quiero las stopwords presentes para poder buscar tipo \"se presenta\", \"se recibe\", \"se comunica\"\n",
        "\n",
        "counter2 = CountVectorizer(ngram_range = (2,2))  #an ngram_range of (1, 1) means only unigrams, (1, 2) means unigrams and bigrams, and (2, 2) means only bigrams.\n",
        "\n",
        "X_t2 = counter2.fit_transform(X)\n",
        "\n",
        "data2 = pd.DataFrame(X_t2.toarray().sum(axis=0),\n",
        "             index = counter2.get_feature_names_out(),\n",
        "             columns = ['freq']).sort_values('freq',ascending=False)\n",
        "\"\"\""
      ],
      "metadata": {
        "id": "oA695a5qX9-k"
      },
      "execution_count": null,
      "outputs": []
    },
    {
      "cell_type": "markdown",
      "source": [
        "## resolviendo\n"
      ],
      "metadata": {
        "id": "CFUpbGj8Am1d"
      }
    },
    {
      "cell_type": "markdown",
      "source": [
        "En finoch_oct_nov\n",
        "data = 982 (monomios todos)<br>\n",
        "data1 = 868 (usando quitar stopwords) <br>\n",
        "data2 = 2366 (con binomios) <br>\n",
        "data2c = 1783 (con binomios y usando quitar stopwords) <br>\n"
      ],
      "metadata": {
        "id": "MGx8MVjRzpNK"
      }
    },
    {
      "cell_type": "markdown",
      "source": [
        "♒ En el conteo a mano me dio: <br>\n",
        "Virtuales: 93 <br>\n",
        "Presenciales: 52"
      ],
      "metadata": {
        "id": "TnN0rfKRzK8P"
      }
    },
    {
      "cell_type": "code",
      "source": [
        "\"\"\"\n",
        "virtuales = (data2.query('index == \"recibo certificado\"').sum() +\n",
        "             data2.query('index == \"recibo certificados\"').sum() +\n",
        "             data2.query('index == \"recibo certif\"').sum() +\n",
        "             data2.query('index == \"se recibe\"').sum() +\n",
        "             data2.query('index == \"envia certif\"').sum() +\n",
        "             data2.query('index == \"envia certificado\"').sum() +\n",
        "             data2.query('index == \"envia certificados\"').sum() +\n",
        "             data2.query('index == \"envia constancia\"').sum()+\n",
        "             data2.query('index == \"recibo mail\"').sum() +\n",
        "             data2.query('index == \"recibo aviso\"').sum() +\n",
        "             data2.query('index == \"se comunica\"').sum() +\n",
        "             data2.query('index == \"sector informa\"').sum()  +\n",
        "             data2.query('index == \"me comunico\"').sum() +\n",
        "             data1.query('index == \"llamo\"').sum() +\n",
        "             data2.query('index == \"intento comunicarme\"').sum()\n",
        "             )\n",
        "# uso data1 sacados los stopwords, mas prolijo para los unipalabra,, pero sin sacarle stopwords (data2) para bipalabras porque necesito el \"se\"\n",
        "\"\"\"\n",
        "\"\"\"\n",
        "solo para ver como hace el conteo, copiado lo que está en virtuales\n",
        "print(virtuales,\n",
        "      data2.query('index == \"recibo certificado\"').sum(),\n",
        "      data2.query('index == \"recibo certificados\"').sum(),\n",
        "      data2.query('index == \"recibo certif\"').sum(),\n",
        "      data2.query('index == \"se recibe\"').sum(),\n",
        "      data2.query('index == \"envia certif\"').sum(),\n",
        "      data2.query('index == \"envia certificado\"').sum(),\n",
        "      data2.query('index == \"envia certificados\"').sum(),\n",
        "      data2.query('index == \"envia constancia\"').sum(),\n",
        "      data2.query('index == \"recibo mail\"').sum(),\n",
        "      data2.query('index == \"recibo aviso\"').sum(),\n",
        "      data2.query('index == \"se comunica\"').sum(),\n",
        "      data2.query('index == \"sector informa\"').sum(),\n",
        "      data2.query('index == \"me comunico\"').sum(),\n",
        "      data1.query('index == \"llamo\"').sum(),\n",
        "      data2.query('index == \"intento comunicarme\"').sum()\n",
        "      )\n",
        "\"\"\"\n"
      ],
      "metadata": {
        "colab": {
          "base_uri": "https://localhost:8080/",
          "height": 174
        },
        "id": "pWI0JV4jtK5k",
        "outputId": "8284d2f9-e9a2-416b-fd0e-d4450d144988"
      },
      "execution_count": null,
      "outputs": [
        {
          "output_type": "execute_result",
          "data": {
            "text/plain": [
              "'\\nsolo para ver como hace el conteo, copiado lo que está en virtuales\\nprint(virtuales,\\n      data2.query(\\'index == \"recibo certificado\"\\').sum(),\\n      data2.query(\\'index == \"recibo certificados\"\\').sum(),\\n      data2.query(\\'index == \"recibo certif\"\\').sum(),\\n      data2.query(\\'index == \"se recibe\"\\').sum(),\\n      data2.query(\\'index == \"envia certif\"\\').sum(),\\n      data2.query(\\'index == \"envia certificado\"\\').sum(),\\n      data2.query(\\'index == \"envia certificados\"\\').sum(),\\n      data2.query(\\'index == \"envia constancia\"\\').sum(),\\n      data2.query(\\'index == \"recibo mail\"\\').sum(), \\n      data2.query(\\'index == \"recibo aviso\"\\').sum(), \\n      data2.query(\\'index == \"se comunica\"\\').sum(),\\n      data2.query(\\'index == \"sector informa\"\\').sum(), \\n      data2.query(\\'index == \"me comunico\"\\').sum(),\\n      data1.query(\\'index == \"llamo\"\\').sum(),\\n      data2.query(\\'index == \"intento comunicarme\"\\').sum()\\n      )\\n'"
            ],
            "application/vnd.google.colaboratory.intrinsic+json": {
              "type": "string"
            }
          },
          "metadata": {},
          "execution_count": 6
        }
      ]
    },
    {
      "cell_type": "code",
      "source": [
        "\"\"\"\n",
        "presenciales = (data1.query('index == \"concurre\"').sum() +\n",
        "                 data1.query('index == \"concurrio\"').sum() +\n",
        "                 data1.query('index == \"acude\"').sum() +\n",
        "                 data1.query('index == \"acudió\"').sum() +\n",
        "                 data2.query('index == \"se presenta\"').sum()+\n",
        "                 data2.query('index == \"se presentó\"').sum())\n",
        "\n",
        "# uso data1 sacados los stopwords, mas prolijo para los unipalabra,, pero sin sacarle stopwords (data2) para bipalabras porque necesito el \"se\"\n",
        "\"\"\"\n",
        "\"\"\"\n",
        "solo para ver como hace el conteo, copiado lo que está en presenciales\n",
        "print(presenciales,\n",
        "      data1.query('index == \"concurre\"').sum(),\n",
        "      data1.query('index == \"concurrio\"').sum(),\n",
        "      data1.query('index == \"acude\"').sum(),\n",
        "      data1.query('index == \"acudió\"').sum(),\n",
        "      data2.query('index == \"se presenta\"').sum(),\n",
        "      data2.query('index == \"se presentó\"').sum()\n",
        "       )\n",
        "\"\"\""
      ],
      "metadata": {
        "colab": {
          "base_uri": "https://localhost:8080/",
          "height": 87
        },
        "id": "-vH852gJ1n7-",
        "outputId": "0652a76b-eb3e-4b80-b1fb-bdc8cf75e483"
      },
      "execution_count": null,
      "outputs": [
        {
          "output_type": "execute_result",
          "data": {
            "text/plain": [
              "'\\nsolo para ver como hace el conteo, copiado lo que está en presenciales\\nprint(presenciales, \\n      data1.query(\\'index == \"concurre\"\\').sum(), \\n      data1.query(\\'index == \"concurrio\"\\').sum(),\\n      data1.query(\\'index == \"acude\"\\').sum(), \\n      data1.query(\\'index == \"acudió\"\\').sum(), \\n      data2.query(\\'index == \"se presenta\"\\').sum(),\\n      data2.query(\\'index == \"se presentó\"\\').sum()\\n       )\\n'"
            ],
            "application/vnd.google.colaboratory.intrinsic+json": {
              "type": "string"
            }
          },
          "metadata": {},
          "execution_count": 7
        }
      ]
    },
    {
      "cell_type": "code",
      "source": [
        "\"\"\"\n",
        "print( \"Asistencias virtuales:\", virtuales)\n",
        "print(\"\\n ---------------------------------------\")\n",
        "print( \"Asistencias presenciales:\", presenciales)\n",
        "\"\"\""
      ],
      "metadata": {
        "colab": {
          "base_uri": "https://localhost:8080/"
        },
        "collapsed": true,
        "id": "7KYtkZu1c7ey",
        "outputId": "b033a4ff-3886-4997-994f-e23db615ceb2"
      },
      "execution_count": null,
      "outputs": [
        {
          "output_type": "stream",
          "name": "stdout",
          "text": [
            "Asistencias virtuales: freq    95\n",
            "dtype: int64\n",
            "\n",
            " ---------------------------------------\n",
            "Asistencias presenciales: freq    51\n",
            "dtype: int64\n"
          ]
        }
      ]
    },
    {
      "cell_type": "markdown",
      "source": [
        "# TODO JUNTO SIN CLASES"
      ],
      "metadata": {
        "id": "iuEW8pSqiMjm"
      }
    },
    {
      "cell_type": "code",
      "source": [
        "\n",
        "# para poder usarlo con copy paste de la columna sin necesidad de descargar crear csv etc,\n",
        "# este codigo agarra el string enorme que le pega y lo parte en filas de 100 palabras (p)\n",
        "\n",
        "\n",
        "\n",
        "#-------------\n",
        "\n",
        "text = input(\"Seleccione la columna a analizar, copie y pegue aqui:\")\n",
        "p = 100  # Number of words per row\n",
        "\n",
        "words = text.split()\n",
        "rows = []\n",
        "for i in range(0, len(words), p):\n",
        "    rows.append(' '.join(words[i:i+p]))\n",
        "X = pd.Series(rows)\n",
        "# X es la serie que resulta de esta funcion y que luego pasara a la otra funcion para analizar texto\n",
        "\n",
        "#--------------------------\n",
        "\n",
        "# counter unipalabras con quitador de stopwords\n",
        "from spacy.lang.es import stop_words as es_stop_words\n",
        "counter1 = CountVectorizer(stop_words= list(es_stop_words.STOP_WORDS))\n",
        "\n",
        "X_t1 = counter1.fit_transform(X)  # counter_ sin nada, para tokenizar individualmente\n",
        "\n",
        "data1 = pd.DataFrame(X_t1.toarray().sum(axis=0),\n",
        "                    index = counter1.get_feature_names_out(),\n",
        "                    columns=['freq'])\n",
        "\n",
        "\n",
        "# -----------------------------------\n",
        "# para contar binomios quiero las stopwords presentes para poder buscar tipo \"se presenta\", \"se recibe\", \"se comunica\"\n",
        "\n",
        "counter2 = CountVectorizer(ngram_range = (2,2))  #an ngram_range of (1, 1) means only unigrams, (1, 2) means unigrams and bigrams, and (2, 2) means only bigrams.\n",
        "\n",
        "X_t2 = counter2.fit_transform(X)\n",
        "\n",
        "data2 = pd.DataFrame(X_t2.toarray().sum(axis=0),\n",
        "             index = counter2.get_feature_names_out(),\n",
        "             columns = ['freq']).sort_values('freq',ascending=False)\n",
        "\n",
        "\n",
        "# ------------------\n",
        "\n",
        "virtuales = (data2.query('index == \"recibo certificado\"').sum() +\n",
        "             data2.query('index == \"recibo certificados\"').sum() +\n",
        "             data2.query('index == \"recibo certif\"').sum() +\n",
        "             data2.query('index == \"recibo email\"').sum() +\n",
        "             data2.query('index == \"recibo mail\"').sum() +\n",
        "             data2.query('index == \"se recibe\"').sum() +\n",
        "             data2.query('index == \"recibo aviso\"').sum() +\n",
        "             data2.query('index == \"sector avisa\"').sum() +\n",
        "             data2.query('index == \"envia certif\"').sum() +\n",
        "             data2.query('index == \"envia certificado\"').sum() +\n",
        "             data2.query('index == \"envia certificados\"').sum() +\n",
        "             data2.query('index == \"envia constancia\"').sum()+\n",
        "             data2.query('index == \"envia mail\"').sum()+\n",
        "             data2.query('index == \"envia email\"').sum()+\n",
        "             data2.query('index == \"se comunica\"').sum() +\n",
        "             data2.query('index == \"sector informa\"').sum()  +\n",
        "             data2.query('index == \"me comunico\"').sum() +\n",
        "             data2.query('index == \"se comunica\"').sum() +\n",
        "             data1.query('index == \"llamo\"').sum() +\n",
        "             data1.query('index == \"llama\"').sum() +\n",
        "             data2.query('index == \"intento comunicarme\"').sum()\n",
        "             )\n",
        "# uso data1 sacados los stopwords, mas prolijo para los unipalabra,, pero sin sacarle stopwords (data2) para bipalabras porque necesito el \"se\"\n",
        "\n",
        "presenciales = (data1.query('index == \"concurre\"').sum() +\n",
        "                 data1.query('index == \"concurrio\"').sum() +\n",
        "                 data1.query('index == \"acude\"').sum() +\n",
        "                 data1.query('index == \"acudió\"').sum() +\n",
        "                 data2.query('index == \"se presenta\"').sum()+\n",
        "                 data2.query('index == \"se presentó\"').sum()+\n",
        "                 data1.query('index == \"aporta\"').sum())\n",
        "\n",
        "# uso data1 sacados los stopwords, mas prolijo para los unipalabra,, pero sin sacarle stopwords (data2) para bipalabras porque necesito el \"se\"\n",
        "\n",
        "print( \"Asistencias virtuales:\", virtuales)\n",
        "print(\"\\n ---------------------------------------\")\n",
        "print( \"Asistencias presenciales:\", presenciales)\n",
        "\n",
        "\n"
      ],
      "metadata": {
        "id": "pz4IA0hAiMQF",
        "colab": {
          "base_uri": "https://localhost:8080/"
        },
        "outputId": "fa92b21d-63e7-4a44-80be-2f02914c0be7"
      },
      "execution_count": null,
      "outputs": [
        {
          "output_type": "stream",
          "name": "stdout",
          "text": [
            "Seleccione la columna a analizar, copie y pegue aqui:10/6 envian email el 9/06 desde sector, avisando ausencia de la colaboradora, dx laringitis, reposo 72 horas. Se cita a consultorio // 19/06 Acude con certificado original 10/6 envia certi 9/06 certif, dx sindrome gripal, reposo por 72 hs.//13/6 acude a presentar certificado virtual 10/6/2024 envia por email certif. 10/6 dx beg, reposo por 24 horas. 10/6 se presenta a consulta, al examen fisico, se encuentra con decaimiento, palidez, refiere nauseas. Presenta rx de senos paranasales y laboratorio del 7/06 con Pcr levadaJustifica retiro para atención por guardias. //11/6 envia desde sector aviso de ausencia, colaboradora concurrio a guardia, 48hs, gec. pendiente certificado. 11/6 envia cert del 10/6 dx: rinofaringitis viral, reposo 48hs. 12/06 aviso del sector de ausentismo de la colaboradora el 12/0 por cuadro gripal pendiente certificado 12/06 envia certificado con fecha del 10/06 con dx de gea con reposo por 48hs 13/6 se recibe constancia 7/6 reposo 72 hs. Envia mail aclara ausencia del 8 y 9 14/6 recibo mail con certigficado de gastroenteritis reposo 48hs 14/6 sector informa gripe con reposo 48hss 14/6 sector informa ausencia por mareos, mail con certificado de mareos cefalea y desvanecimiento reposo 24hs 14/6 sector informa ausentismo por dolor de halux valgus y dificultad a deambulacion 14/6 envia certificados de reposo por emesis: 10/6 24hs, 11/6 72hs, 14/6 24hs. Concurre a ml (sin certificados en papel) . Refiere turno con Ob 27/6m, y cito ese dia con tratamieton indicado, si le indicara reposo con diagnostco. y futuras certificados a prtir de entonces del obsetra. (HCpapel en folio en carpeta de prolongados) 14/6 sectori informa nuevo reposo de 48hs por gripe 18/6 envia por mail certificado del 14/6, dx: lumbalgia, reposo 24hs y orden para aplicacion im de diclofenac +dexametasona. 18/6 se reciba mail con cert del 15/6 dx: infeccion viral, 48hs. Cito a ml. 19/06 llama por telefono avisando 1que recien a las 7.15 am vio el mensaje que ya estaba en la casa se le pide que lo traiga el dia de hoy o sino el lunes presencial. acude a ml con el certificado original 18/6 se recibe cert del 16/6 dx:cervicalgia, reposo 24hs- 18/6 se recibe cert online del 16/6 dx: cervicalgia, reposo 48hs. Se consulta sobre si fue a medico traumatologo y se realizo EC, envio varias veces teleconsulta.Refiere turno con especialista para el 12/9. Cito a ml//acude a ml con cert del 16/6 dx:cervicalgia, reposo 48hs. Al EF: presenta dolor en region cervical, que irradia a mmss der y contractura muscular en region pectoral. En tto con diclofenac 75mg, se sugiere ir a guardia traumatologica. 18/6 se recibe mail desde sector dando aviso de ausencia del 17/6 por dolor, pendiente envio de certificados./Envia certificado del 17/6 dx:cervicalgia, reposo 24hs + orden de analgesia con diclofenac +calor local. 18/6 se recibe mail con cert del 15/6 dx: sme gripal, reposo 24hs. certificado del 16/6 dx:sme gripal, reposo 48hs. Cito a ml 18/6 se recibe desde cordinacion cert del 18/6 dx:lumbalgia, reposo 3 dias. Se consulta por EC y control. cito a ml. 18/6 se recibe cert del 16/6 dx: vomitos, reposo 24hs 18/6 envia cert del 14/6 atencion en guardia por cuadro de prurito, aporta lab del 14/6: fal 150, resto s/p. AP de vellosidades de ID, refiere medicacion habitual:benadryl endovenoso por prurito, Aspirina prevent 100mg por sten del aneurisma oftalmica cerebral , Minociclina 100mg por rosasea, venlafaxina 150mg por migraña crónica. y control con dermatologia, gastro y hepatologo.Se cita a ml para su justificacion.// 19/06 acude a ml para control medico. // 19/06 acude a ml para control medico y trae certificado del 14/06 con dx de prurito. le solicitaron laboratorio y si sale alterado se le tomara biopsia, laboratorio de glucvemia hb glicosilada, dosaje de tirotrofina ultrasensible, un nuevo hepatograma, le pidieron anticuerpos inmunoglobulinas y serologias y ecodoppler hepatico y ser ealizo una ecografia el 16/06 sp, no se puede ver el pancreas por interposicion gaseosa., certificado del 14/ sin aclaracion de reposo se le justifica por traer estudio complementearios| 18/6 envia por mail certficado del 18/6, dx: faringitis aguda, reposo 48hs. Refiere test influenz y covid negativo. 18/6 se recibe aviso de ausencia desde sector del 18/6 por estado gripal. pendiente certificado. 19/6/2024 CERTIFICADO DEL 18/06 CON DX DE GEA CON REPOSO POR 72HS. SE LO CITA CON EL CERTIFICADO ORIGINAL AL ALTA. 19/06 certificado del 15/0 con dx de hiperemesis reposo por 24hs 10/6 envian email el 9/06 desde sector, avisando ausencia de la colaboradora, dx laringitis, reposo 72 horas. Se cita a consultorio // 19/06 Acude con certificado original 19/06 aviso de ausentismo por enfermedad pendiente certificado 24/06 Presenta certificado del 6/06/204 dx cx refractiva, reposo hasta el 7/06/2024 inclisiva/ certificado 10/06/24 indico reposo hasta cirguia del ojo izqueirdo, nuevo control postqx 13/06/24 // certificado 13/06/24 dx cirugia refractiva con fecha 13/06/24 oi, indica reposo hasta 19/06/24 // certificado 19/06/24 dx alto oftalmologica a partir del 20/06/24. La colaboradora refiere estar en tto con atibiotico y lagrimas oftalmologicas, refiere ausencia de dolor, solo sensacion de ojo seco. 24/06 envia email el dia miercoles 19/06 con certificado del 14/06 de donacion de sangre con indicacion de reposo de 24hs. 24/06 envia email del 22/06 con certificado 22/06 dx bronquitis reposo por 48 hs 24/06 envia email del 22/06 con certificado 22/06 dx sospecha de dengue reposo por 72 horas.//27/4 presenta constancia de reposo del 18/6 por 72 hs por sospecha dengue, muestra estudios dengue confiormado. 24/06 NO JUSTIFICA, ya que el certificado con fecha 14/06 que envia por email carece de indicacion de reposo. 24/06 email con certificado 21/06/24 dx gripe, reposo 48 horas./Se recibe de rrhh cert del 23/6 dx:gripe atencion virtual, reposo 24hs. cito a ml. Acude a ml con certificados del 21 y 23/6, al EF: tos productiva, afebril, congestion nasal, mialgias, BEAB, sin ruidos agregados. En tto con antigripales, por ea de acetilcisteina consulta nuevamente el 23/6 para cambio de medicacion. 24/06/24 email con certificado 17/06/24 dx cuadro de infeccion resp. aguda, reposo 72 horas. 24/06/24 email con cert. 22/6/24 dx rinofaringolaringitis, reposo por 48 hs 24/06 email del sector de enfermeria con aviso de ausencia de la colaboradora el dia 23/06, nos comunicamos via email solicitandole que acuda a consulta con el certificado. CERTIFICADO PENDIENTE//envia certficado del 23/6 dx:gec, reposo 24hs 24/06 acude a consulta de medicina laboral, refiere que mañana pasara con certficado original por lumbalgia. Refiere que le indicaron en guardia 10 sesione de FKT y que sacara turno con un traumatologo para seguimiento, refiere estar en tto con dioxaflex B12 24/06 email con certificado 24/06/24 dx cefalea, reposo 24 hs y control 24/06 email con aviso por parte del sector de ausencia de la colaboradora por dolor de espalda, cervicales y abdomen.//envia por mail devolucion de medico a domicilio, dx: lumbalgia, lasegue + con discopatia. reposo 24hs. Retoma el 25/6 19/06 certificado del 15/06 con dx de sme gripal y otitis con reposo por 72hs, le indicaron tto con amoxiclavulanico y certificado del 18/06 con reposo por 48hs ambos atencion presencial en control domiciliario, 19/06 certificado del 15/06 con dx de sme gripal y otitis con reposo por 72hs, le indicaron tto con amoxiclavulanico y certificado del 18/06 con reposo por 48hs ambos atencion presencial en control domiciliario, 19/06 certificado del 15/06 con dx de sme gripal y otitis con reposo por 72hs, le indicaron tto con amoxiclavulanico y certificado del 18/06 con reposo por 48hs ambos atencion presencial en control domiciliario, 25/6 Envia mail con cert del 13/6 por intervencion qx, reposo 4 dias. refiere solo se ausenta 16/6. Se envia mail que especifique intervencion sin respuesta./Se envia mail nuevamente 25/6, reifere se opero de varices en ambos mmii, control con cx el 3/7, refiere solo se ausenta el 16/6. 25/6 acude a ml con cert del 25/6 dx: crisis de migraña, reposo 24hs. Tto con keterolac+reliveran ev, paciente muy sintomatica. 25/6 envia mail con cert del 24/6 dx: adenomegalias dolorosas con lesion cutanea asociada homolateral. reposo 24hs 26/06 paciente envia mail con certificado digital del 25/06 con dx de influenza reposo por 24hs 26/06 envia certificado por mail del 24/06 con dx de faringitis con reposo por 24hs y envia certificado del 25/06 con dx de inyeccion conjuntivial y reposo por 48hs. / 03/07 acude a ml con certificado oroginal del 25/06 26/6 envia certificado 72 hs puncion mama 26/6 envia constancia de reposo 72 hs puncion mama 28/6 recibo certificado de 72 hs de reposo por herpes 28/6 recibo certificado del 28/6 gastroenteritis reposo 48hs (trabaja sadofe) 1/07 recibo email con certificado 28/06 dx sme gripal reposo por 48 horas 1/07 recibo email certificado 28/06 dx diarrea reposo por 48 horas 1/07 recibo email con aviso de ausencia, le escribo a la colaboradora por novedades y certificado 1/07 recibo email certificado 29/06 dx cervicalgia tensional, reposo por 7 días. Tta FKT 10 sesiones,eterocoxib, pridinol. Se la cita a control. //2/7 refiere viene el jueves 4/07 entre las 14.30 y 15.30hs//4/7 acude con certificado de reposo 29/6 por 7 dias, presenta rectificacion cervical. Turno 11/07 resoncia // 17/7 Se recibe por mail el informe de RM: protrusiones postero-centrales de los discos C4-5y C5-6, con leve impronta sobre la médula espinal. Prostrusión posterio central y subarticular derecha del disco C6-7 con fisura del anillo fibroso y leve importan sobre la médula espinal. Discopatias focales entre C4 y C7, con leve importan sobre la médula espional. 1/07 recibo email certificado 29/06 dx IVAS, reposo por 48 hs 1/07 recibo email de aviso de ausencia, le escribo al colaborador por novedades y certificado 1/07 recibo email 30/06 dx rinofaringitis aguda, reposo de 24 hs 1/07 recibo email 30/06 dx faringitis aguda, reposo 24 hs 1/07 recibo email de aviso de ausencia, le escribo al colaboradora por novedades y certificado/ 2/7 recibo certificadod de faringirtis reposo 72hs. Cito a ML / 8/7 acude a consultorio para entrega de certificados: 01/07 reposo 72 hs dx farinigits. 04/07 reposos 48 hs, dx sme gripal 1/07 recibo email de aviso de ausencia, le escribo a la colaboradora por novedades y certificado. // 2/07 certif bronquitis sin indicacion de reposo, enseña rx 28/06 se evidencia dilatacion bronquial, bronquiectasias? izq, le realizaron lab el cual no adjunta, inicio tto amc 1/07 recibo email con aviso de ausencia, se informara que faltó por mudanza sin presentar previa solicitud aprobada 1/07 email con certificado 7/06/ dx sme gripal, reposo por 72 hs. 2/07 certif 30/06 faringitis reposo 24hs 2/07 certif 2/07 reposo 24hs faringitis viral, optimizaron tto c antialergico y antitusivo 2/7 recibo certificado de gastroenteritis, reposos 48 hs. Refiere se ausento solo el 1/7 2/7 recibo certificado de gastroenteritis, reposos 24 hs, cito a ML. //03/07 Se le envia mail recordando que debe traer certificado 03/07 Paciente envia certificado del 02/07 con dx de cuadro gripal reposo por 24hs 03/07 envia certificado del 20/07 con dx de gea con reposo por 48hs//4/7 aporta constancia de reposo 48 hs por gec se justifica guardia Paciente envia certificado digital con fecha del 02/07 con dx de dolor por puncion mamaria, y envia informe de anatomia patologica : Mama derecha (hora 10, periareolar), biopsia: - CARCINOMA INFILTRANTE DE TIPO NO ESPECIAL (NST). - GRADO HISTOLÓGICO (NOTTINGHAM): GRADO 2 (G3 N2 M1 03/7 envia constancia de reposo 29/6 y 30/6 por 24 hs 4/7 aporta constancia de1/7 reposo 72 hs. 4/7 envia constancia de reposo 24 hs, se encuentra en preparacion para VCC 5/7 recibo certificado de 48hs reposo por gastroenterocolitis 5/7 concurre colaboradora con certificados de ausencia por sme gripa 25/6 por 5 dis , 30/6 por 5 dias . alta medica del 4/6 para reincorporarse el 5/7. La colaboradora se ausento los dias 26,27y28 de junio y 1,2,3,4 de Julio. 5/7 concurre colaboradora con certificados de ausencia por sme gripa 25/6 por 5 dis , 30/6 por 5 dias . alta medica del 4/6 para reincorporarse el 5/7. La colaboradora se ausento los dias 26,27y28 de junio y 1,2,3,4 de Julio. 8/7 envia mail con certificado 5/7 pte acude a guardia, reposo 48 hs. dx dolor. // 12/7 concurre a MOL con certificado de 5/7 con reposo 48hs por dolor abdominal. Refiere ITU, esta con cipro500 cada 12hs . envia receta de atmb se solicita mande urocultiivo y sedimento efectudo el 5/7. le quedan dos disa. Refiere ya asintomatica. 8/7 se recibe mail de coordinacion informando ausentismo de colaboradora 8/7 recibo mail con certificado enterocololitis reposo 48 hs // 15/7 se da aviso a RRHH sobre ausencia a multiples citaciones a control//acude a ml con cert del 6/7 dx enterocoliits, reoso 48hs. Mejoria sintomatica. 8/7 se recibe mail de coordinacion informando ausentismo de colaborador/ 12/7 trae certificado de reposos 72 hs, pr sme gripal. se ausento el 7/7 y 9/7 8/7 se recibe mail con certificado 22/6 dx sme gripal, reposo 48 hs 8/7 se recibe mail de coordinacion informando ausentismo de colaboradora 8/7 se recibe mail de coordinacion informando ausentismo de colaboradora 1/07 recibo email de aviso de ausencia, le escribo al colaboradora por novedades y certificado/ 2/7 recibo certificadod de faringirtis reposo 72hs. Cito a ML / 8/7 acude a consultorio para entrega de certificados: 01/07 reposo 72 hs dx farinigits. 04/07 reposos 48 hs, dx sme gripal 10/7 recibo mail de coordinacion informando ausentismo de colaboradora 10/7 recibo mail coordinacion con certificado 8/7 sme gripal, reposo 72 hs//11/7 deja constancia original reposo 72 hs 10/7 recibo mail de coordinacion informando ausentismo de colaboradora / se recibe mail con certificado \" se hace constar que la paciente amerita 48 hs de reposo ya que presenta proceso infeccioso e inflamación\". //11/7 se recibe certificado en papel reposo 48 hs 10/7 recibo mail con certificado 8/7 sme febril + mialgias, reposo 48 hs 12/7 recibo certificado de atencion virtual por diarrea y gastroenteritis, reposos 24hs, ausento a noche 11/7 10/7 recibo mail de coordinacion informando ausentismo de colaboradora 10/7 recibo mail con certificado gec reposo 24 hs 10/7 recibo mail de coordinacion informando retiro anticipado de colaboradora. s recibe certificado 10/7 recibo mail con certificado 10/7 dolor abdominal reposo 48 hs 11/7/24 envia constamncia de reposo 72 hs se cita a control./ bacrim optamox /12/7 trae certificado de reposo 72 hs por mordedura de ghato en 4to dedo de mano izquierda. cito a control de herida previo a ingreso su turno el lunes 15. // 15/7 acude a control. Herida con costras, sin signos de flogosis. Se da pautas de alarma. En condiciones de retorno laboral. 11/7 deja constancia de reposo 48 hs 29/6. trabaja noche A 11/7 se recibe constancia de reposo 48 hs, pasara por consultorio // 12/7 concurre a consultorio con certificado de migrala 10/7 reposo 48hs. Se auysento solo el 10/7 a su turno. refiere concurrencia con sme gripal por lo que cambio su medicacion ppor paracetamol. Trabaja hoy 12/7 12/7 recibo certificado de reposo 48 hs por gastroenterocolitis. Cito 12 o 14/7. LLama por tel y da aviso de que concurrira 16/7. 12/7 mail de sector ausencia por \"Infección aguda de VAS\" con reposo de 48 hs. Envio mail pidiendo certificado 12/7 envia certificado de atencion por rinofaringitis, reposo 24hs 12/7 envia certificado de gastroenteritis reposo 48hs. Noches impares A- solo ausente el 7/12 12/7 recibo certidfiado del 8/7 por sme gripal reposo 48hs. Solo se ausento a su guardiadel 8/7. 12/7 recibo mail con dcertificado de dolor abdominal reposo 24hs. cito a control ML con certificcdos 15/7.// Informan que se opera el 13/7 12/7 mail del sector informando ausencia por cervicalgia. envio mail solicitando certificados 12/7 certificado de bronquitis reposo 72hs. Solicitos diasl laborles y cito el lunes15//acude a ml con cer del 12/7 dx: bronquitis, reposo 72hs. En tto con amoxicilina + ac clavulanico x 7 dias + acetilcisteina. Afebril, tos residual, mejoria sintomatica. 15/7 envia por mail certificado 12/7 pte concurrio a cirugia de exodoncia en el dia de la fecha, reposo 72 hs. Corresponde unicamente a 12/7 porque trabaja Lu.Vier 15/7 se recibe mail de coordinadora informando ausentismo de colaboradora el día 12/7. Envia certificado por mail 12/7 cefalea reposo 24 hs. Concurria 18/7 a ml. 15/7 se recibe mail de coordinacion informando ausentismo de colaborador 15/7 se recibe mail con certificado 13/7 dx bronquitis reposo 48 hs/18/7/2024 se presenta con certificado 13/7 reposo 48 hs crisis asmatica, antecedentes de asma. 15/7 se recibe mail de coordinacion infromando ausentismo de colaboradora del 14/7. Pendiente certificado// 19/7 recibo mail con certificado del 14/7 por gripe, reposo 48hs, concurre a consultorio con certificado de gripe reposo 48hs, se ausento solo la noche del 14/7. 15/7 envia por mail certificado 14/7 dx gec reposo 24 hs 15/7 sector avisa ausentismo de colaboradora 15/7 envia mail con certificado 15/7 extraccion pieza dentaria, reposo 72 hs 16/7 se recibe mail del 15/7 desde su sector informando que el colaborador se ausentara 48hs por disfonia, pendiente certificado.// Envia cert del 15/7 dx: disfonia grado II, reposo 48hs. 16/07 se recibe mail desde sector informando de ausencia sin aviso, que luego posterior comunicacion informa crisis de ansiedad. Se envia mail a la colaboradora.Pendiente certfiicado. // 22/7 se recibe mail (16/7) con certificado 13/7 angustia reposo 24 hs 16/07 se recibe cert del 14/6 dx: sme gripal + crisis asmatica. Reposo 72hs, adjunta visita de alfamedica a domicilio del 16/7. Cito a ml.\n",
            "Asistencias virtuales: freq    91\n",
            "dtype: int64\n",
            "\n",
            " ---------------------------------------\n",
            "Asistencias presenciales: freq    31\n",
            "dtype: int64\n"
          ]
        }
      ]
    },
    {
      "cell_type": "markdown",
      "source": [
        "# con Python orientado a objetos todo en 1 celda"
      ],
      "metadata": {
        "id": "bqhQ_rYFSOD2"
      }
    },
    {
      "cell_type": "markdown",
      "source": [
        "Set Up Your Environment:\n",
        "\n",
        "Make sure you have Python and pip installed on your machine.\n",
        "Install your chosen framework:\n",
        "text"
      ],
      "metadata": {
        "id": "-QaqnwMhFD5z"
      }
    },
    {
      "cell_type": "code",
      "source": [
        "pip install streamlit\n",
        "pip install gradio"
      ],
      "metadata": {
        "id": "s5-E4jC1FFfG"
      },
      "execution_count": null,
      "outputs": []
    },
    {
      "cell_type": "code",
      "source": [
        "# librerias\n",
        "import streamlit as st\n",
        "import pandas as pd\n",
        "from sklearn.feature_extraction.text import CountVectorizer\n",
        "import spacy\n",
        "\n",
        "# programa\n",
        "class AtencionAnalyzer:\n",
        "    def __init__(self, text, stop_words):\n",
        "        self.text = text\n",
        "        self.stop_words = stop_words\n",
        "        self.rows = self._prepare_data()\n",
        "        self.data1 = None\n",
        "        self.data2 = None\n",
        "\n",
        "    def _prepare_data(self):\n",
        "        \"\"\"Divide el texto en filas de 100 palabras.\"\"\"\n",
        "        p = 100  # Número de palabras por fila\n",
        "        words = self.text.split()\n",
        "        rows = []\n",
        "        for i in range(0, len(words), p):\n",
        "            rows.append(' '.join(words[i:i+p]))\n",
        "        return pd.Series(rows)\n",
        "\n",
        "    def _count_unigrams(self):\n",
        "        \"\"\"Cuenta las palabras individuales (unigramas).\"\"\"\n",
        "        counter1 = CountVectorizer(stop_words=self.stop_words)\n",
        "        X_t1 = counter1.fit_transform(self.rows)\n",
        "        self.data1 = pd.DataFrame(X_t1.toarray().sum(axis=0),\n",
        "                                  index=counter1.get_feature_names_out(),\n",
        "                                  columns=['freq'])\n",
        "\n",
        "    def _count_bigrams(self):\n",
        "        \"\"\"Cuenta las combinaciones de dos palabras (bipalabras).\"\"\"\n",
        "        counter2 = CountVectorizer(ngram_range=(2, 2))\n",
        "        X_t2 = counter2.fit_transform(self.rows)\n",
        "        self.data2 = pd.DataFrame(X_t2.toarray().sum(axis=0),\n",
        "                                  index=counter2.get_feature_names_out(),\n",
        "                                  columns=['freq']).sort_values('freq', ascending=False)\n",
        "\n",
        "    def analyze(self):\n",
        "        \"\"\"Realiza el análisis de atenciones virtuales y presenciales.\"\"\"\n",
        "        self._count_unigrams()\n",
        "        self._count_bigrams()\n",
        "\n",
        "        virtuales = self._count_virtuales()\n",
        "        presenciales = self._count_presenciales()\n",
        "\n",
        "        print(\"Asistencias virtuales:\", virtuales)\n",
        "        print(\"\\n---------------------------------------\")\n",
        "        print(\"Asistencias presenciales:\", presenciales)\n",
        "\n",
        "    def _count_virtuales(self):\n",
        "        \"\"\"Cuenta las asistencias virtuales.\"\"\"\n",
        "        return (self.data2.query('index == \"recibo certificado\"').sum() +\n",
        "                self.data2.query('index == \"recibo certificados\"').sum() +\n",
        "                self.data2.query('index == \"recibo certif\"').sum() +\n",
        "                self.data2.query('index == \"se recibe\"').sum() +\n",
        "                self.data2.query('index == \"envia certif\"').sum() +\n",
        "                self.data2.query('index == \"envia certificado\"').sum() +\n",
        "                self.data2.query('index == \"envia certificados\"').sum() +\n",
        "                self.data2.query('index == \"envia constancia\"').sum() +\n",
        "                self.data2.query('index == \"recibo mail\"').sum() +\n",
        "                self.data2.query('index == \"recibo aviso\"').sum() +\n",
        "                self.data2.query('index == \"se comunica\"').sum() +\n",
        "                self.data2.query('index == \"sector informa\"').sum() +\n",
        "                self.data2.query('index == \"me comunico\"').sum() +\n",
        "                self.data1.query('index == \"llamo\"').sum() +\n",
        "                self.data2.query('index == \"intento comunicarme\"').sum())\n",
        "\n",
        "    def _count_presenciales(self):\n",
        "        \"\"\"Cuenta las asistencias presenciales.\"\"\"\n",
        "        return (self.data1.query('index == \"concurre\"').sum() +\n",
        "                self.data1.query('index == \"concurrio\"').sum() +\n",
        "                self.data1.query('index == \"acude\"').sum() +\n",
        "                self.data1.query('index == \"acudió\"').sum() +\n",
        "                self.data2.query('index == \"se presenta\"').sum() +\n",
        "                self.data2.query('index == \"se presentó\"').sum())\n",
        "\n",
        "# Uso de la clase\n",
        "if __name__ == \"__main__\":\n",
        "    from spacy.lang.es import stop_words as es_stop_words\n",
        "    text = input(\"Seleccione la columna a analizar, copie y pegue aquí: \")\n",
        "    stop_words = list(es_stop_words.STOP_WORDS)  # Define aquí tu lista de stop words\n",
        "    analyzer = AtencionAnalyzer(text, stop_words)\n",
        "    analyzer.analyze()\n",
        "\n",
        "\n",
        "st.title('Atenciones Medicina Laboral')\n",
        "\n",
        "text = st.text_area(\"Paste the text you want to analyze here:\")\n",
        "if st.button(\"Analyze\"):\n",
        "    if text:\n",
        "        stop_words = list(nlp.Defaults.stop_words)\n",
        "        analyzer = AtencionAnalyzer(text, stop_words)\n",
        "        analyzer.analyze()\n",
        "        # Display results accordingly, e.g.:\n",
        "        st.write(\"Asistencias virtuales:\", analyzer._count_virtuales())\n",
        "        st.write(\"Asistencias presenciales:\", analyzer._count_presenciales())\n",
        "    else:\n",
        "        st.warning(\"Please enter some text to analyze.\")\n",
        "\n"
      ],
      "metadata": {
        "colab": {
          "base_uri": "https://localhost:8080/",
          "height": 385
        },
        "id": "qTB5TUT3SU_B",
        "outputId": "83432903-eb05-48e3-e46a-141ad7e9d697"
      },
      "execution_count": null,
      "outputs": [
        {
          "output_type": "error",
          "ename": "ModuleNotFoundError",
          "evalue": "No module named 'streamlit'",
          "traceback": [
            "\u001b[0;31m---------------------------------------------------------------------------\u001b[0m",
            "\u001b[0;31mModuleNotFoundError\u001b[0m                       Traceback (most recent call last)",
            "\u001b[0;32m<ipython-input-2-46bcedeb53ad>\u001b[0m in \u001b[0;36m<cell line: 2>\u001b[0;34m()\u001b[0m\n\u001b[1;32m      1\u001b[0m \u001b[0;31m# librerias\u001b[0m\u001b[0;34m\u001b[0m\u001b[0;34m\u001b[0m\u001b[0m\n\u001b[0;32m----> 2\u001b[0;31m \u001b[0;32mimport\u001b[0m \u001b[0mstreamlit\u001b[0m \u001b[0;32mas\u001b[0m \u001b[0mst\u001b[0m\u001b[0;34m\u001b[0m\u001b[0;34m\u001b[0m\u001b[0m\n\u001b[0m\u001b[1;32m      3\u001b[0m \u001b[0;32mimport\u001b[0m \u001b[0mpandas\u001b[0m \u001b[0;32mas\u001b[0m \u001b[0mpd\u001b[0m\u001b[0;34m\u001b[0m\u001b[0;34m\u001b[0m\u001b[0m\n\u001b[1;32m      4\u001b[0m \u001b[0;32mfrom\u001b[0m \u001b[0msklearn\u001b[0m\u001b[0;34m.\u001b[0m\u001b[0mfeature_extraction\u001b[0m\u001b[0;34m.\u001b[0m\u001b[0mtext\u001b[0m \u001b[0;32mimport\u001b[0m \u001b[0mCountVectorizer\u001b[0m\u001b[0;34m\u001b[0m\u001b[0;34m\u001b[0m\u001b[0m\n\u001b[1;32m      5\u001b[0m \u001b[0;32mimport\u001b[0m \u001b[0mspacy\u001b[0m\u001b[0;34m\u001b[0m\u001b[0;34m\u001b[0m\u001b[0m\n",
            "\u001b[0;31mModuleNotFoundError\u001b[0m: No module named 'streamlit'",
            "",
            "\u001b[0;31m---------------------------------------------------------------------------\u001b[0;32m\nNOTE: If your import is failing due to a missing package, you can\nmanually install dependencies using either !pip or !apt.\n\nTo view examples of installing some common dependencies, click the\n\"Open Examples\" button below.\n\u001b[0;31m---------------------------------------------------------------------------\u001b[0m\n"
          ],
          "errorDetails": {
            "actions": [
              {
                "action": "open_url",
                "actionText": "Open Examples",
                "url": "/notebooks/snippets/importing_libraries.ipynb"
              }
            ]
          }
        }
      ]
    },
    {
      "cell_type": "markdown",
      "source": [
        "Run Your App Locally:\n",
        "\n",
        "Save your modified code in a file called app.py.\n",
        "Run the app using:\n",
        "text\n",
        "Copy\n",
        "streamlit run app.py\n",
        "This will create a local server where you can see your app functioning.\n"
      ],
      "metadata": {
        "id": "Bgt8z7ZVE5rU"
      }
    },
    {
      "cell_type": "code",
      "source": [
        "streamlit run app.py"
      ],
      "metadata": {
        "id": "LkpvgMyNFJGu"
      },
      "execution_count": null,
      "outputs": []
    },
    {
      "cell_type": "markdown",
      "source": [
        "\n",
        "Deploy Your App:\n",
        "\n",
        "For deployment, you can use platforms like Streamlit Sharing or Heroku. For Streamlit Sharing, you'll need to push your code to a GitHub repository and link it to Streamlit Sharing.\n",
        "Follow the respective deployment documentation for the chosen platform to go live.\n",
        "Share Your App:\n",
        "\n",
        "Once deployed, share the link to your app with others so they can use it online.\n",
        "Summary\n",
        "Using frameworks like Streamlit or Gradio allows you to create an online application quickly and without backend coding. These platforms handle server interactions and frontend management, letting you focus on your Python code and its functionality.\n",
        "\n"
      ],
      "metadata": {
        "id": "P3qgz6y1FNPf"
      }
    }
  ]
}
